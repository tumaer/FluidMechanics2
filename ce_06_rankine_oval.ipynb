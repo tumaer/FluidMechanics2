{
 "cells": [
  {
   "cell_type": "code",
   "execution_count": null,
   "metadata": {},
   "outputs": [],
   "source": [
    "import matplotlib.pyplot as plt\n",
    "import numpy as np\n",
    "\n",
    "\n",
    "class ParallelFlow:\n",
    "\n",
    "    def __init__(self, velocity_x, velocity_y) -> None:\n",
    "        self.velocity_x = velocity_x\n",
    "        self.velocity_y = velocity_y\n",
    "\n",
    "    def get_complex_velocity(self, z):\n",
    "        return self.velocity_x - 1.0j * self.velocity_y\n",
    "\n",
    "\n",
    "class SourceFlow:\n",
    "\n",
    "    def __init__(self, source_strength, translation_x = 0.0, translation_y = 0.0) -> None:\n",
    "        self.translation_x = translation_x\n",
    "        self.translation_y = translation_y\n",
    "        self.source_strength = source_strength\n",
    "        self.factor = self.source_strength / (2.0 * np.pi)\n",
    "\n",
    "    def get_complex_velocity(self, z):\n",
    "        z = z - self.translation_x - 1.0j * self.translation_y\n",
    "        return self.factor / z\n",
    "    \n",
    "def get_grid_quantities(x_min, x_max, y_min, y_max, resolution_x, resolution_y):\n",
    "    x_linspace = np.linspace(x_min, x_max, resolution_x)\n",
    "    y_linspace = np.linspace(y_min, y_max, resolution_y)\n",
    "    X,Y = np.meshgrid(x_linspace, y_linspace)\n",
    "    Z = X + 1.0j * Y\n",
    "    return X, Y, Z"
   ]
  },
  {
   "cell_type": "code",
   "execution_count": null,
   "metadata": {},
   "outputs": [],
   "source": [
    "x_min = -4.0\n",
    "x_max = 4.0\n",
    "y_min = -4.0\n",
    "y_max = 4.0\n",
    "resolution_per_unit_length = 20\n",
    "resolution_x = ( x_max - x_min ) * resolution_per_unit_length\n",
    "resolution_y = ( y_max - y_min ) * resolution_per_unit_length\n",
    "\n",
    "X, Y, Z = get_grid_quantities(x_min, x_max, y_min, y_max, int(resolution_x), int(resolution_y))"
   ]
  },
  {
   "cell_type": "code",
   "execution_count": null,
   "metadata": {},
   "outputs": [],
   "source": [
    "u_infty = 1.0\n",
    "y_infty = 1.0\n",
    "sink_strength = -3.0\n",
    "source_strength = 3.0\n",
    "\n",
    "source = SourceFlow(source_strength, -1.0, 0.0)\n",
    "sink = SourceFlow(sink_strength, 1.0, 0.0)\n",
    "inflow = ParallelFlow(u_infty, 0.0)\n",
    "\n",
    "complex_velocity = inflow.get_complex_velocity(Z) + sink.get_complex_velocity(Z) + source.get_complex_velocity(Z)\n",
    "u = np.real(complex_velocity)\n",
    "v = - np.imag(complex_velocity)"
   ]
  },
  {
   "cell_type": "code",
   "execution_count": null,
   "metadata": {},
   "outputs": [],
   "source": [
    "fig, ax = plt.subplots()\n",
    "\n",
    "x_linspace = np.linspace(x_min, x_max, 21)\n",
    "y_linspace = np.linspace(x_min, x_max, 20)\n",
    "y_linspace = np.append(y_linspace, 1.e-5)\n",
    "y_linspace = np.append(y_linspace, -1.e-5)\n",
    "\n",
    "streamline_seeds = np.stack([np.ones_like(y_linspace)*0.0, y_linspace], axis=-1)\n",
    "ax.streamplot(\n",
    "    X, Y, u, v,\n",
    "    density=[1.0, 1.0],\n",
    "    minlength=1.0, maxlength=20.0,\n",
    "    broken_streamlines=False,\n",
    "    start_points=streamline_seeds,\n",
    "    color=\"#3070b3\",\n",
    ")\n",
    "\n",
    "potential_line_seeds = np.stack([x_linspace, np.ones_like(x_linspace)*y_min], axis=-1)\n",
    "ax.streamplot(\n",
    "    X, Y, -v, u,\n",
    "    density=[0.2, 0.2],\n",
    "    minlength=1.0, maxlength=20.0,\n",
    "    broken_streamlines=False,\n",
    "    start_points=potential_line_seeds,\n",
    "    arrowstyle = \"-\",\n",
    "    color=\"#E37222\",\n",
    ")\n",
    "\n",
    "plt.show()"
   ]
  }
 ],
 "metadata": {
  "kernelspec": {
   "display_name": "plot",
   "language": "python",
   "name": "python3"
  },
  "language_info": {
   "codemirror_mode": {
    "name": "ipython",
    "version": 3
   },
   "file_extension": ".py",
   "mimetype": "text/x-python",
   "name": "python",
   "nbconvert_exporter": "python",
   "pygments_lexer": "ipython3",
   "version": "3.9.15"
  },
  "orig_nbformat": 4
 },
 "nbformat": 4,
 "nbformat_minor": 2
}
